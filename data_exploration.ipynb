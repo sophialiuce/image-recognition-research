{
 "cells": [
  {
   "cell_type": "code",
   "execution_count": 8,
   "metadata": {},
   "outputs": [],
   "source": [
    "import numpy as np\n",
    "import pandas as pd\n",
    "from sklearn.ensemble import RandomForestClassifier\n",
    "from sklearn import preprocessing\n",
    "from sklearn import metrics\n",
    "from pyfm import pylibfm\n",
    "import matplotlib.pyplot as plt\n",
    "import seaborn as sns"
   ]
  },
  {
   "cell_type": "code",
   "execution_count": 2,
   "metadata": {},
   "outputs": [
    {
     "data": {
      "text/html": [
       "<div>\n",
       "<style>\n",
       "    .dataframe thead tr:only-child th {\n",
       "        text-align: right;\n",
       "    }\n",
       "\n",
       "    .dataframe thead th {\n",
       "        text-align: left;\n",
       "    }\n",
       "\n",
       "    .dataframe tbody tr th {\n",
       "        vertical-align: top;\n",
       "    }\n",
       "</style>\n",
       "<table border=\"1\" class=\"dataframe\">\n",
       "  <thead>\n",
       "    <tr style=\"text-align: right;\">\n",
       "      <th></th>\n",
       "      <th>brand_name</th>\n",
       "      <th>brand_label</th>\n",
       "      <th>product_name</th>\n",
       "      <th>product_label</th>\n",
       "      <th>file</th>\n",
       "      <th>Price</th>\n",
       "    </tr>\n",
       "  </thead>\n",
       "  <tbody>\n",
       "    <tr>\n",
       "      <th>0</th>\n",
       "      <td>Christian Louboutin</td>\n",
       "      <td>0</td>\n",
       "      <td>shoes</td>\n",
       "      <td>0</td>\n",
       "      <td>0_0_001.png</td>\n",
       "      <td>293.43</td>\n",
       "    </tr>\n",
       "    <tr>\n",
       "      <th>1</th>\n",
       "      <td>Christian Louboutin</td>\n",
       "      <td>0</td>\n",
       "      <td>shoes</td>\n",
       "      <td>0</td>\n",
       "      <td>0_0_002.png</td>\n",
       "      <td>299.84</td>\n",
       "    </tr>\n",
       "    <tr>\n",
       "      <th>2</th>\n",
       "      <td>Christian Louboutin</td>\n",
       "      <td>0</td>\n",
       "      <td>shoes</td>\n",
       "      <td>0</td>\n",
       "      <td>0_0_003.png</td>\n",
       "      <td>216.33</td>\n",
       "    </tr>\n",
       "    <tr>\n",
       "      <th>3</th>\n",
       "      <td>Christian Louboutin</td>\n",
       "      <td>0</td>\n",
       "      <td>shoes</td>\n",
       "      <td>0</td>\n",
       "      <td>0_0_004.png</td>\n",
       "      <td>1.71</td>\n",
       "    </tr>\n",
       "    <tr>\n",
       "      <th>4</th>\n",
       "      <td>Christian Louboutin</td>\n",
       "      <td>0</td>\n",
       "      <td>shoes</td>\n",
       "      <td>0</td>\n",
       "      <td>0_0_005.png</td>\n",
       "      <td>297.71</td>\n",
       "    </tr>\n",
       "    <tr>\n",
       "      <th>5</th>\n",
       "      <td>Christian Louboutin</td>\n",
       "      <td>0</td>\n",
       "      <td>shoes</td>\n",
       "      <td>0</td>\n",
       "      <td>0_0_006.png</td>\n",
       "      <td>246.77</td>\n",
       "    </tr>\n",
       "    <tr>\n",
       "      <th>6</th>\n",
       "      <td>Christian Louboutin</td>\n",
       "      <td>0</td>\n",
       "      <td>shoes</td>\n",
       "      <td>0</td>\n",
       "      <td>0_0_007.png</td>\n",
       "      <td>114.27</td>\n",
       "    </tr>\n",
       "    <tr>\n",
       "      <th>7</th>\n",
       "      <td>Christian Louboutin</td>\n",
       "      <td>0</td>\n",
       "      <td>shoes</td>\n",
       "      <td>0</td>\n",
       "      <td>0_0_008.png</td>\n",
       "      <td>296.94</td>\n",
       "    </tr>\n",
       "    <tr>\n",
       "      <th>8</th>\n",
       "      <td>Christian Louboutin</td>\n",
       "      <td>0</td>\n",
       "      <td>shoes</td>\n",
       "      <td>0</td>\n",
       "      <td>0_0_009.png</td>\n",
       "      <td>231.29</td>\n",
       "    </tr>\n",
       "    <tr>\n",
       "      <th>9</th>\n",
       "      <td>Christian Louboutin</td>\n",
       "      <td>0</td>\n",
       "      <td>shoes</td>\n",
       "      <td>0</td>\n",
       "      <td>0_0_010.png</td>\n",
       "      <td>244.13</td>\n",
       "    </tr>\n",
       "  </tbody>\n",
       "</table>\n",
       "</div>"
      ],
      "text/plain": [
       "            brand_name  brand_label product_name  product_label         file  \\\n",
       "0  Christian Louboutin            0        shoes              0  0_0_001.png   \n",
       "1  Christian Louboutin            0        shoes              0  0_0_002.png   \n",
       "2  Christian Louboutin            0        shoes              0  0_0_003.png   \n",
       "3  Christian Louboutin            0        shoes              0  0_0_004.png   \n",
       "4  Christian Louboutin            0        shoes              0  0_0_005.png   \n",
       "5  Christian Louboutin            0        shoes              0  0_0_006.png   \n",
       "6  Christian Louboutin            0        shoes              0  0_0_007.png   \n",
       "7  Christian Louboutin            0        shoes              0  0_0_008.png   \n",
       "8  Christian Louboutin            0        shoes              0  0_0_009.png   \n",
       "9  Christian Louboutin            0        shoes              0  0_0_010.png   \n",
       "\n",
       "    Price  \n",
       "0  293.43  \n",
       "1  299.84  \n",
       "2  216.33  \n",
       "3    1.71  \n",
       "4  297.71  \n",
       "5  246.77  \n",
       "6  114.27  \n",
       "7  296.94  \n",
       "8  231.29  \n",
       "9  244.13  "
      ]
     },
     "execution_count": 2,
     "metadata": {},
     "output_type": "execute_result"
    }
   ],
   "source": [
    "df = pd.read_csv(\"/Users/liuce/Downloads/Archive/Label.csv\")\n",
    "df[:10]"
   ]
  },
  {
   "cell_type": "code",
   "execution_count": 3,
   "metadata": {},
   "outputs": [
    {
     "data": {
      "text/html": [
       "<div>\n",
       "<style>\n",
       "    .dataframe thead tr:only-child th {\n",
       "        text-align: right;\n",
       "    }\n",
       "\n",
       "    .dataframe thead th {\n",
       "        text-align: left;\n",
       "    }\n",
       "\n",
       "    .dataframe tbody tr th {\n",
       "        vertical-align: top;\n",
       "    }\n",
       "</style>\n",
       "<table border=\"1\" class=\"dataframe\">\n",
       "  <thead>\n",
       "    <tr style=\"text-align: right;\">\n",
       "      <th></th>\n",
       "      <th>brand_label</th>\n",
       "      <th>product_label</th>\n",
       "      <th>Price</th>\n",
       "    </tr>\n",
       "  </thead>\n",
       "  <tbody>\n",
       "    <tr>\n",
       "      <th>count</th>\n",
       "      <td>2184.000000</td>\n",
       "      <td>2184.000000</td>\n",
       "      <td>2184.000000</td>\n",
       "    </tr>\n",
       "    <tr>\n",
       "      <th>mean</th>\n",
       "      <td>3.073260</td>\n",
       "      <td>3.468864</td>\n",
       "      <td>151.256786</td>\n",
       "    </tr>\n",
       "    <tr>\n",
       "      <th>std</th>\n",
       "      <td>1.891742</td>\n",
       "      <td>2.966903</td>\n",
       "      <td>86.216570</td>\n",
       "    </tr>\n",
       "    <tr>\n",
       "      <th>min</th>\n",
       "      <td>0.000000</td>\n",
       "      <td>0.000000</td>\n",
       "      <td>0.520000</td>\n",
       "    </tr>\n",
       "    <tr>\n",
       "      <th>25%</th>\n",
       "      <td>1.000000</td>\n",
       "      <td>1.000000</td>\n",
       "      <td>76.310000</td>\n",
       "    </tr>\n",
       "    <tr>\n",
       "      <th>50%</th>\n",
       "      <td>3.000000</td>\n",
       "      <td>2.000000</td>\n",
       "      <td>154.815000</td>\n",
       "    </tr>\n",
       "    <tr>\n",
       "      <th>75%</th>\n",
       "      <td>4.000000</td>\n",
       "      <td>6.000000</td>\n",
       "      <td>226.012500</td>\n",
       "    </tr>\n",
       "    <tr>\n",
       "      <th>max</th>\n",
       "      <td>6.000000</td>\n",
       "      <td>9.000000</td>\n",
       "      <td>299.920000</td>\n",
       "    </tr>\n",
       "  </tbody>\n",
       "</table>\n",
       "</div>"
      ],
      "text/plain": [
       "       brand_label  product_label        Price\n",
       "count  2184.000000    2184.000000  2184.000000\n",
       "mean      3.073260       3.468864   151.256786\n",
       "std       1.891742       2.966903    86.216570\n",
       "min       0.000000       0.000000     0.520000\n",
       "25%       1.000000       1.000000    76.310000\n",
       "50%       3.000000       2.000000   154.815000\n",
       "75%       4.000000       6.000000   226.012500\n",
       "max       6.000000       9.000000   299.920000"
      ]
     },
     "execution_count": 3,
     "metadata": {},
     "output_type": "execute_result"
    }
   ],
   "source": [
    "df.describe()"
   ]
  },
  {
   "cell_type": "markdown",
   "metadata": {},
   "source": [
    "### Price Range"
   ]
  },
  {
   "cell_type": "code",
   "execution_count": 12,
   "metadata": {},
   "outputs": [
    {
     "data": {
      "text/plain": [
       "count    2184.000000\n",
       "mean      151.256786\n",
       "std        86.216570\n",
       "min         0.520000\n",
       "25%        76.310000\n",
       "50%       154.815000\n",
       "75%       226.012500\n",
       "max       299.920000\n",
       "Name: Price, dtype: float64"
      ]
     },
     "execution_count": 12,
     "metadata": {},
     "output_type": "execute_result"
    }
   ],
   "source": [
    "prices.describe()"
   ]
  },
  {
   "cell_type": "code",
   "execution_count": 9,
   "metadata": {},
   "outputs": [
    {
     "data": {
      "text/plain": [
       "<matplotlib.axes._subplots.AxesSubplot at 0x115dcf390>"
      ]
     },
     "execution_count": 9,
     "metadata": {},
     "output_type": "execute_result"
    },
    {
     "data": {
      "image/png": "[encoded data removed]",
      "text/plain": [
       "<matplotlib.figure.Figure at 0x11569f5c0>"
      ]
     },
     "metadata": {},
     "output_type": "display_data"
    }
   ],
   "source": [
    "sns.distplot(prices, kde=False, bins = 100)"
   ]
  },
  {
   "cell_type": "code",
   "execution_count": 10,
   "metadata": {},
   "outputs": [
    {
     "data": {
      "text/plain": [
       "<matplotlib.axes._subplots.AxesSubplot at 0x1156b5b38>"
      ]
     },
     "execution_count": 10,
     "metadata": {},
     "output_type": "execute_result"
    },
    {
     "data": {
      "image/png": "[encoded data removed]",
      "text/plain": [
       "<matplotlib.figure.Figure at 0x1156ac278>"
      ]
     },
     "metadata": {},
     "output_type": "display_data"
    }
   ],
   "source": [
    "sns.distplot(prices, kde=True, bins = 100)"
   ]
  },
  {
   "cell_type": "markdown",
   "metadata": {},
   "source": [
    "### Group By Operations with Pandas"
   ]
  },
  {
   "cell_type": "code",
   "execution_count": 66,
   "metadata": {
    "collapsed": true
   },
   "outputs": [],
   "source": [
    "gp_brand = df.groupby('brand_label')['Price']\n",
    "gp_product = df.groupby('product_label')['Price']\n",
    "gp_pB = df.groupby(['brand_label','product_label'])['Price']"
   ]
  },
  {
   "cell_type": "code",
   "execution_count": 67,
   "metadata": {},
   "outputs": [
    {
     "data": {
      "text/plain": [
       "brand_label\n",
       "0    237\n",
       "1    344\n",
       "2    267\n",
       "3    333\n",
       "4    468\n",
       "5    247\n",
       "6    288\n",
       "Name: Price, dtype: int64"
      ]
     },
     "execution_count": 67,
     "metadata": {},
     "output_type": "execute_result"
    }
   ],
   "source": [
    "gp_brand.count()"
   ]
  },
  {
   "cell_type": "code",
   "execution_count": 70,
   "metadata": {},
   "outputs": [
    {
     "data": {
      "text/plain": [
       "[154.38586497890304,\n",
       " 153.45171511627902,\n",
       " 149.54764044943829,\n",
       " 143.23813813813803,\n",
       " 148.82467948717948,\n",
       " 154.79202429149788,\n",
       " 157.83638888888899]"
      ]
     },
     "execution_count": 70,
     "metadata": {},
     "output_type": "execute_result"
    }
   ],
   "source": [
    "price_mean_b = list(gp_brand.mean())\n",
    "price_mean_b"
   ]
  },
  {
   "cell_type": "code",
   "execution_count": 71,
   "metadata": {},
   "outputs": [
    {
     "data": {
      "text/plain": [
       "[152.7334792122538,\n",
       " 145.16833333333344,\n",
       " 155.14463007159901,\n",
       " 155.85759740259738,\n",
       " 151.44479999999993,\n",
       " 147.0589051094891,\n",
       " 151.18596938775519,\n",
       " 137.66198347107431,\n",
       " 155.39537974683537,\n",
       " 150.81560975609761]"
      ]
     },
     "execution_count": 71,
     "metadata": {},
     "output_type": "execute_result"
    }
   ],
   "source": [
    "price_mean_p = list(gp_product.mean())\n",
    "price_mean_p"
   ]
  },
  {
   "cell_type": "markdown",
   "metadata": {},
   "source": [
    "### Group by Brand"
   ]
  },
  {
   "cell_type": "code",
   "execution_count": 26,
   "metadata": {},
   "outputs": [
    {
     "data": {
      "text/plain": [
       "7"
      ]
     },
     "execution_count": 26,
     "metadata": {},
     "output_type": "execute_result"
    }
   ],
   "source": [
    "df.sort_values(\"brand_label\", inplace = True)\n",
    "brand_list = df.brand_label.unique()\n",
    "brand_list.size"
   ]
  },
  {
   "cell_type": "code",
   "execution_count": 27,
   "metadata": {},
   "outputs": [
    {
     "data": {
      "text/plain": [
       "array(['Christian Louboutin', 'Chanel', 'Dolce & Gabbana', 'Gucci',\n",
       "       'Christian Dior', 'Versace', 'Yves Saint Laurent'], dtype=object)"
      ]
     },
     "execution_count": 27,
     "metadata": {},
     "output_type": "execute_result"
    }
   ],
   "source": [
    "brand_name_list = df.brand_name.unique()\n",
    "brand_name_list"
   ]
  },
  {
   "cell_type": "code",
   "execution_count": 28,
   "metadata": {},
   "outputs": [
    {
     "name": "stdout",
     "output_type": "stream",
     "text": [
      "237\n",
      "581\n",
      "848\n",
      "1181\n",
      "1649\n",
      "1896\n"
     ]
    }
   ],
   "source": [
    "j = 0\n",
    "length = df.shape[0]\n",
    "prices_list_b = []\n",
    "\n",
    "for brand in brand_list:\n",
    "    prices_b = []\n",
    "    for i in range(j, length):\n",
    "        if df.iloc[i]['brand_label'] == brand:\n",
    "            prices_b.append(df.iloc[i]['Price'])\n",
    "        else:\n",
    "            print(i)\n",
    "            j = i\n",
    "            break\n",
    "    prices_list_b.append(prices_b)"
   ]
  },
  {
   "cell_type": "code",
   "execution_count": 29,
   "metadata": {},
   "outputs": [
    {
     "data": {
      "text/plain": [
       "7"
      ]
     },
     "execution_count": 29,
     "metadata": {},
     "output_type": "execute_result"
    }
   ],
   "source": [
    "len(prices_list_b)"
   ]
  },
  {
   "cell_type": "code",
   "execution_count": 30,
   "metadata": {},
   "outputs": [
    {
     "data": {
      "text/plain": [
       "237"
      ]
     },
     "execution_count": 30,
     "metadata": {},
     "output_type": "execute_result"
    }
   ],
   "source": [
    "len(prices_list_b[0])"
   ]
  },
  {
   "cell_type": "code",
   "execution_count": 40,
   "metadata": {},
   "outputs": [
    {
     "data": {
      "text/plain": [
       "[237, 344, 267, 333, 468, 247, 288]"
      ]
     },
     "execution_count": 40,
     "metadata": {},
     "output_type": "execute_result"
    }
   ],
   "source": [
    "count_b = []\n",
    "\n",
    "for p in prices_list_b:\n",
    "    count_b.append(len(p))\n",
    "count_b"
   ]
  },
  {
   "cell_type": "code",
   "execution_count": 75,
   "metadata": {},
   "outputs": [],
   "source": [
    "df_brand = pd.DataFrame(\n",
    "    {'brand_label': brand_list,\n",
    "     'brand_name': brand_name_list,\n",
    "     'prices': prices_list_b,\n",
    "     'count':count_b,\n",
    "     'mean_price': price_mean_b,\n",
    "    })"
   ]
  },
  {
   "cell_type": "code",
   "execution_count": 76,
   "metadata": {},
   "outputs": [
    {
     "data": {
      "text/html": [
       "<div>\n",
       "<style>\n",
       "    .dataframe thead tr:only-child th {\n",
       "        text-align: right;\n",
       "    }\n",
       "\n",
       "    .dataframe thead th {\n",
       "        text-align: left;\n",
       "    }\n",
       "\n",
       "    .dataframe tbody tr th {\n",
       "        vertical-align: top;\n",
       "    }\n",
       "</style>\n",
       "<table border=\"1\" class=\"dataframe\">\n",
       "  <thead>\n",
       "    <tr style=\"text-align: right;\">\n",
       "      <th></th>\n",
       "      <th>brand_label</th>\n",
       "      <th>brand_name</th>\n",
       "      <th>count</th>\n",
       "      <th>mean_price</th>\n",
       "      <th>prices</th>\n",
       "    </tr>\n",
       "  </thead>\n",
       "  <tbody>\n",
       "    <tr>\n",
       "      <th>0</th>\n",
       "      <td>0</td>\n",
       "      <td>Christian Louboutin</td>\n",
       "      <td>237</td>\n",
       "      <td>154.385865</td>\n",
       "      <td>[293.43, 122.1, 182.79, 10.4, 217.53, 281.29, ...</td>\n",
       "    </tr>\n",
       "    <tr>\n",
       "      <th>1</th>\n",
       "      <td>1</td>\n",
       "      <td>Chanel</td>\n",
       "      <td>344</td>\n",
       "      <td>153.451715</td>\n",
       "      <td>[264.01, 234.65, 263.88, 154.44, 256.82, 165.8...</td>\n",
       "    </tr>\n",
       "    <tr>\n",
       "      <th>2</th>\n",
       "      <td>2</td>\n",
       "      <td>Dolce &amp; Gabbana</td>\n",
       "      <td>267</td>\n",
       "      <td>149.547640</td>\n",
       "      <td>[237.72, 251.98, 218.96, 2.16, 280.69, 224.66,...</td>\n",
       "    </tr>\n",
       "    <tr>\n",
       "      <th>3</th>\n",
       "      <td>3</td>\n",
       "      <td>Gucci</td>\n",
       "      <td>333</td>\n",
       "      <td>143.238138</td>\n",
       "      <td>[264.38, 188.16, 0.8, 87.33, 78.76, 107.62, 13...</td>\n",
       "    </tr>\n",
       "    <tr>\n",
       "      <th>4</th>\n",
       "      <td>4</td>\n",
       "      <td>Christian Dior</td>\n",
       "      <td>468</td>\n",
       "      <td>148.824679</td>\n",
       "      <td>[175.69, 258.05, 221.64, 148.71, 175.47, 21.11...</td>\n",
       "    </tr>\n",
       "    <tr>\n",
       "      <th>5</th>\n",
       "      <td>5</td>\n",
       "      <td>Versace</td>\n",
       "      <td>247</td>\n",
       "      <td>154.792024</td>\n",
       "      <td>[15.97, 193.34, 141.85, 98.75, 49.29, 226.17, ...</td>\n",
       "    </tr>\n",
       "    <tr>\n",
       "      <th>6</th>\n",
       "      <td>6</td>\n",
       "      <td>Yves Saint Laurent</td>\n",
       "      <td>288</td>\n",
       "      <td>157.836389</td>\n",
       "      <td>[102.76, 20.61, 267.7, 245.52, 147.86, 261.26,...</td>\n",
       "    </tr>\n",
       "  </tbody>\n",
       "</table>\n",
       "</div>"
      ],
      "text/plain": [
       "   brand_label           brand_name  count  mean_price  \\\n",
       "0            0  Christian Louboutin    237  154.385865   \n",
       "1            1               Chanel    344  153.451715   \n",
       "2            2      Dolce & Gabbana    267  149.547640   \n",
       "3            3                Gucci    333  143.238138   \n",
       "4            4       Christian Dior    468  148.824679   \n",
       "5            5              Versace    247  154.792024   \n",
       "6            6   Yves Saint Laurent    288  157.836389   \n",
       "\n",
       "                                              prices  \n",
       "0  [293.43, 122.1, 182.79, 10.4, 217.53, 281.29, ...  \n",
       "1  [264.01, 234.65, 263.88, 154.44, 256.82, 165.8...  \n",
       "2  [237.72, 251.98, 218.96, 2.16, 280.69, 224.66,...  \n",
       "3  [264.38, 188.16, 0.8, 87.33, 78.76, 107.62, 13...  \n",
       "4  [175.69, 258.05, 221.64, 148.71, 175.47, 21.11...  \n",
       "5  [15.97, 193.34, 141.85, 98.75, 49.29, 226.17, ...  \n",
       "6  [102.76, 20.61, 267.7, 245.52, 147.86, 261.26,...  "
      ]
     },
     "execution_count": 76,
     "metadata": {},
     "output_type": "execute_result"
    }
   ],
   "source": [
    "df_brand"
   ]
  },
  {
   "cell_type": "code",
   "execution_count": 57,
   "metadata": {},
   "outputs": [
    {
     "data": {
      "image/png": "[encoded data removed]",
      "text/plain": [
       "<matplotlib.figure.Figure at 0x116927c50>"
      ]
     },
     "metadata": {},
     "output_type": "display_data"
    }
   ],
   "source": [
    "df_temp_b = df_brand['count']\n",
    "df_temp_b.index = df_brand['brand_name']\n",
    "\n",
    "plt.bar(df_brand['brand_name'], df_temp_b)\n",
    "plt.xlabel(\"brand_name\")  \n",
    "plt.ylabel(\"count\")\n",
    "plt.show()"
   ]
  },
  {
   "cell_type": "code",
   "execution_count": 89,
   "metadata": {},
   "outputs": [
    {
     "data": {
      "image/png": "[encoded data removed]",
      "text/plain": [
       "<matplotlib.figure.Figure at 0x116d465f8>"
      ]
     },
     "metadata": {},
     "output_type": "display_data"
    }
   ],
   "source": [
    "df_temp_b = df_brand['mean_price']\n",
    "df_temp_b.index = df_brand['brand_name']\n",
    "\n",
    "plt.scatter(df_brand['brand_name'], df_temp_b)\n",
    "plt.xlabel(\"brand_name\")  \n",
    "plt.ylabel(\"mean_price\")\n",
    "plt.grid(alpha=0.4,linestyle=':')\n",
    "plt.show()"
   ]
  },
  {
   "cell_type": "markdown",
   "metadata": {},
   "source": [
    "### Group by Product"
   ]
  },
  {
   "cell_type": "code",
   "execution_count": 31,
   "metadata": {},
   "outputs": [
    {
     "data": {
      "text/plain": [
       "10"
      ]
     },
     "execution_count": 31,
     "metadata": {},
     "output_type": "execute_result"
    }
   ],
   "source": [
    "df.sort_values(\"product_label\", inplace = True)\n",
    "product_list = df.product_label.unique()\n",
    "product_list.size"
   ]
  },
  {
   "cell_type": "code",
   "execution_count": 32,
   "metadata": {},
   "outputs": [
    {
     "data": {
      "text/plain": [
       "array(['shoes', 'lipstick', 'handbag', 'nail polish', 'necklace',\n",
       "       'watches', 'ring', 'bracelet', 'boots', 'earrings'], dtype=object)"
      ]
     },
     "execution_count": 32,
     "metadata": {},
     "output_type": "execute_result"
    }
   ],
   "source": [
    "product_name_list = df.product_name.unique()\n",
    "product_name_list"
   ]
  },
  {
   "cell_type": "code",
   "execution_count": 33,
   "metadata": {},
   "outputs": [
    {
     "name": "stdout",
     "output_type": "stream",
     "text": [
      "457\n",
      "685\n",
      "1104\n",
      "1258\n",
      "1408\n",
      "1545\n",
      "1741\n",
      "1862\n",
      "2020\n"
     ]
    }
   ],
   "source": [
    "j = 0\n",
    "length = df.shape[0]\n",
    "prices_list_p = []\n",
    "\n",
    "for product in product_list:\n",
    "    prices_p = []\n",
    "    for i in range(j, length):\n",
    "        if df.iloc[i]['product_label'] == product:\n",
    "            prices_p.append(df.iloc[i]['Price'])\n",
    "        else:\n",
    "            print(i)\n",
    "            j = i\n",
    "            break\n",
    "    prices_list_p.append(prices_p)"
   ]
  },
  {
   "cell_type": "code",
   "execution_count": 34,
   "metadata": {},
   "outputs": [
    {
     "data": {
      "text/plain": [
       "10"
      ]
     },
     "execution_count": 34,
     "metadata": {},
     "output_type": "execute_result"
    }
   ],
   "source": [
    "len(prices_list_p)"
   ]
  },
  {
   "cell_type": "code",
   "execution_count": 35,
   "metadata": {},
   "outputs": [
    {
     "data": {
      "text/plain": [
       "457"
      ]
     },
     "execution_count": 35,
     "metadata": {},
     "output_type": "execute_result"
    }
   ],
   "source": [
    "len(prices_list_p[0])"
   ]
  },
  {
   "cell_type": "code",
   "execution_count": 43,
   "metadata": {},
   "outputs": [
    {
     "data": {
      "text/plain": [
       "[457, 228, 419, 154, 150, 137, 196, 121, 158, 164]"
      ]
     },
     "execution_count": 43,
     "metadata": {},
     "output_type": "execute_result"
    }
   ],
   "source": [
    "count_p = []\n",
    "\n",
    "for p in prices_list_p:\n",
    "    count_p.append(len(p))\n",
    "count_p"
   ]
  },
  {
   "cell_type": "code",
   "execution_count": 78,
   "metadata": {},
   "outputs": [],
   "source": [
    "df_product = pd.DataFrame(\n",
    "    {'product_label': product_list,\n",
    "     'product_name': product_name_list,\n",
    "     'prices': prices_list_p,\n",
    "     'count':count_p,\n",
    "     'mean_price': price_mean_p,\n",
    "    })"
   ]
  },
  {
   "cell_type": "code",
   "execution_count": 79,
   "metadata": {},
   "outputs": [
    {
     "data": {
      "text/html": [
       "<div>\n",
       "<style>\n",
       "    .dataframe thead tr:only-child th {\n",
       "        text-align: right;\n",
       "    }\n",
       "\n",
       "    .dataframe thead th {\n",
       "        text-align: left;\n",
       "    }\n",
       "\n",
       "    .dataframe tbody tr th {\n",
       "        vertical-align: top;\n",
       "    }\n",
       "</style>\n",
       "<table border=\"1\" class=\"dataframe\">\n",
       "  <thead>\n",
       "    <tr style=\"text-align: right;\">\n",
       "      <th></th>\n",
       "      <th>count</th>\n",
       "      <th>mean_price</th>\n",
       "      <th>prices</th>\n",
       "      <th>product_label</th>\n",
       "      <th>product_name</th>\n",
       "    </tr>\n",
       "  </thead>\n",
       "  <tbody>\n",
       "    <tr>\n",
       "      <th>0</th>\n",
       "      <td>457</td>\n",
       "      <td>152.733479</td>\n",
       "      <td>[293.43, 248.57, 228.66, 59.51, 236.21, 205.16...</td>\n",
       "      <td>0</td>\n",
       "      <td>shoes</td>\n",
       "    </tr>\n",
       "    <tr>\n",
       "      <th>1</th>\n",
       "      <td>228</td>\n",
       "      <td>145.168333</td>\n",
       "      <td>[186.85, 279.75, 260.39, 26.19, 219.34, 284.68...</td>\n",
       "      <td>1</td>\n",
       "      <td>lipstick</td>\n",
       "    </tr>\n",
       "    <tr>\n",
       "      <th>2</th>\n",
       "      <td>419</td>\n",
       "      <td>155.144630</td>\n",
       "      <td>[237.45, 287.45, 169.82, 14.49, 149.91, 288.37...</td>\n",
       "      <td>2</td>\n",
       "      <td>handbag</td>\n",
       "    </tr>\n",
       "    <tr>\n",
       "      <th>3</th>\n",
       "      <td>154</td>\n",
       "      <td>155.857597</td>\n",
       "      <td>[91.91, 28.27, 51.8, 81.27, 66.71, 226.24, 120...</td>\n",
       "      <td>3</td>\n",
       "      <td>nail polish</td>\n",
       "    </tr>\n",
       "    <tr>\n",
       "      <th>4</th>\n",
       "      <td>150</td>\n",
       "      <td>151.444800</td>\n",
       "      <td>[41.31, 288.66, 258.94, 252.82, 175.1, 241.55,...</td>\n",
       "      <td>4</td>\n",
       "      <td>necklace</td>\n",
       "    </tr>\n",
       "    <tr>\n",
       "      <th>5</th>\n",
       "      <td>137</td>\n",
       "      <td>147.058905</td>\n",
       "      <td>[246.71, 109.67, 57.72, 82.56, 123.78, 50.2, 2...</td>\n",
       "      <td>5</td>\n",
       "      <td>watches</td>\n",
       "    </tr>\n",
       "    <tr>\n",
       "      <th>6</th>\n",
       "      <td>196</td>\n",
       "      <td>151.185969</td>\n",
       "      <td>[54.04, 273.58, 148.34, 222.81, 7.81, 65.51, 2...</td>\n",
       "      <td>6</td>\n",
       "      <td>ring</td>\n",
       "    </tr>\n",
       "    <tr>\n",
       "      <th>7</th>\n",
       "      <td>121</td>\n",
       "      <td>137.661983</td>\n",
       "      <td>[186.77, 110.7, 2.06, 113.32, 149.19, 289.5, 2...</td>\n",
       "      <td>7</td>\n",
       "      <td>bracelet</td>\n",
       "    </tr>\n",
       "    <tr>\n",
       "      <th>8</th>\n",
       "      <td>158</td>\n",
       "      <td>155.395380</td>\n",
       "      <td>[46.45, 15.97, 261.78, 284.23, 88.84, 186.89, ...</td>\n",
       "      <td>8</td>\n",
       "      <td>boots</td>\n",
       "    </tr>\n",
       "    <tr>\n",
       "      <th>9</th>\n",
       "      <td>164</td>\n",
       "      <td>150.815610</td>\n",
       "      <td>[298.29, 206.97, 217.47, 11.74, 8.61, 18.57, 4...</td>\n",
       "      <td>9</td>\n",
       "      <td>earrings</td>\n",
       "    </tr>\n",
       "  </tbody>\n",
       "</table>\n",
       "</div>"
      ],
      "text/plain": [
       "   count  mean_price                                             prices  \\\n",
       "0    457  152.733479  [293.43, 248.57, 228.66, 59.51, 236.21, 205.16...   \n",
       "1    228  145.168333  [186.85, 279.75, 260.39, 26.19, 219.34, 284.68...   \n",
       "2    419  155.144630  [237.45, 287.45, 169.82, 14.49, 149.91, 288.37...   \n",
       "3    154  155.857597  [91.91, 28.27, 51.8, 81.27, 66.71, 226.24, 120...   \n",
       "4    150  151.444800  [41.31, 288.66, 258.94, 252.82, 175.1, 241.55,...   \n",
       "5    137  147.058905  [246.71, 109.67, 57.72, 82.56, 123.78, 50.2, 2...   \n",
       "6    196  151.185969  [54.04, 273.58, 148.34, 222.81, 7.81, 65.51, 2...   \n",
       "7    121  137.661983  [186.77, 110.7, 2.06, 113.32, 149.19, 289.5, 2...   \n",
       "8    158  155.395380  [46.45, 15.97, 261.78, 284.23, 88.84, 186.89, ...   \n",
       "9    164  150.815610  [298.29, 206.97, 217.47, 11.74, 8.61, 18.57, 4...   \n",
       "\n",
       "   product_label product_name  \n",
       "0              0        shoes  \n",
       "1              1     lipstick  \n",
       "2              2      handbag  \n",
       "3              3  nail polish  \n",
       "4              4     necklace  \n",
       "5              5      watches  \n",
       "6              6         ring  \n",
       "7              7     bracelet  \n",
       "8              8        boots  \n",
       "9              9     earrings  "
      ]
     },
     "execution_count": 79,
     "metadata": {},
     "output_type": "execute_result"
    }
   ],
   "source": [
    "df_product"
   ]
  },
  {
   "cell_type": "code",
   "execution_count": 59,
   "metadata": {},
   "outputs": [
    {
     "data": {
      "image/png": "[encoded data removed]",
      "text/plain": [
       "<matplotlib.figure.Figure at 0x1166693c8>"
      ]
     },
     "metadata": {},
     "output_type": "display_data"
    }
   ],
   "source": [
    "df_temp_p = df_product['count']\n",
    "df_temp_p.index = df_product['product_name']\n",
    "\n",
    "plt.bar(df_product['product_name'], df_temp_p, color=\"#87CEFA\")\n",
    "plt.xlabel(\"product_name\")  \n",
    "plt.ylabel(\"count\")\n",
    "plt.show()"
   ]
  },
  {
   "cell_type": "code",
   "execution_count": 90,
   "metadata": {},
   "outputs": [
    {
     "data": {
      "image/png": "[encoded data removed]",
      "text/plain": [
       "<matplotlib.figure.Figure at 0x116cf3048>"
      ]
     },
     "metadata": {},
     "output_type": "display_data"
    }
   ],
   "source": [
    "df_temp_p = df_product['mean_price']\n",
    "df_temp_p.index = df_product['product_name']\n",
    "\n",
    "plt.scatter(df_product['product_name'], df_temp_p, color=\"#87CEFA\")\n",
    "plt.xlabel(\"product_name\")  \n",
    "plt.ylabel(\"mean_price\")\n",
    "plt.grid(alpha=0.4,linestyle=':')\n",
    "plt.show()"
   ]
  },
  {
   "cell_type": "code",
   "execution_count": null,
   "metadata": {
    "collapsed": true
   },
   "outputs": [],
   "source": []
  }
 ],
 "metadata": {
  "kernelspec": {
   "display_name": "Python 3",
   "language": "python",
   "name": "python3"
  },
  "language_info": {
   "codemirror_mode": {
    "name": "ipython",
    "version": 3
   },
   "file_extension": ".py",
   "mimetype": "text/x-python",
   "name": "python",
   "nbconvert_exporter": "python",
   "pygments_lexer": "ipython3",
   "version": "3.6.3"
  }
 },
 "nbformat": 4,
 "nbformat_minor": 2
}
